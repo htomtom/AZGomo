{
 "metadata": {
  "language_info": {
   "codemirror_mode": {
    "name": "ipython",
    "version": 3
   },
   "file_extension": ".py",
   "mimetype": "text/x-python",
   "name": "python",
   "nbconvert_exporter": "python",
   "pygments_lexer": "ipython3",
   "version": "3.7.3"
  },
  "orig_nbformat": 2,
  "kernelspec": {
   "name": "python3",
   "display_name": "Python 3",
   "language": "python"
  },
  "metadata": {
   "interpreter": {
    "hash": "916dbcbb3f70747c44a77c7bcd40155683ae19c65e1c03b4aa3499c5328201f1"
   }
  }
 },
 "nbformat": 4,
 "nbformat_minor": 2,
 "cells": [
  {
   "cell_type": "code",
   "execution_count": null,
   "metadata": {
    "tags": []
   },
   "outputs": [],
   "source": [
    "import numpy as np\n",
    "import MCTS\n",
    "import naiveRule\n",
    "import matplotlib.pyplot as plt\n",
    "import RNG\n",
    "import struct\n",
    "import tensorflow as tf\n",
    "%config InlineBackend.figure_formats = ['svg']"
   ]
  },
  {
   "cell_type": "code",
   "execution_count": null,
   "metadata": {
    "tags": []
   },
   "outputs": [],
   "source": [
    "%%capture\n",
    "tf.keras.backend.clear_session()\n",
    "MCTS.loadEngine(1,\"./weights/RNG64.tf\")\n",
    "MCTS.loadEngine(2,\"./RNG64.tf\")"
   ]
  },
  {
   "cell_type": "code",
   "execution_count": null,
   "metadata": {},
   "outputs": [],
   "source": [
    "def loadgm(idx):\n",
    "    if(isinstance(idx,str)): fn=\"games/%s.x\"%(idx)\n",
    "    else: fn=\"games/gm%d.x\"%(idx)\n",
    "    sz=os.stat(fn).st_size//4\n",
    "    fp=open(fn,\"rb\")\n",
    "    x_tr=struct.unpack('f'*sz, fp.read(4*sz))\n",
    "    x_tr=np.reshape(x_tr[:sz-sz%450],[sz//450,15,15,2])\n",
    "    fp.close()\n",
    "    if(sz%450): print(\"warning: possibly incomplete f.x\")\n",
    "    if(isinstance(idx,str)): fn=\"games/%s.y\"%(idx)\n",
    "    else: fn=\"games/gm%d.y\"%(idx)\n",
    "    sz=os.stat(fn).st_size//4\n",
    "    fp=open(fn,\"rb\")\n",
    "    y_tr=struct.unpack('f'*sz, fp.read(4*sz))\n",
    "    y_tr=np.reshape(y_tr[:sz-sz%226],[sz//226,226])\n",
    "    fp.close()\n",
    "    if(sz%226): print(\"warning: possibly incomplete f.y\")\n",
    "    print(len(x_tr),len(y_tr))\n",
    "    sz=min(len(x_tr),len(y_tr))\n",
    "    x_tr,y_tr=x_tr[:sz],y_tr[:sz]\n",
    "    print(np.average(y_tr[:,-1]))\n",
    "    # idc=np.random.permutation(len(x_tr))\n",
    "    # print(MCTS.a0eng .a0_eng.evaluate(x_tr[idc],y_tr[idc],return_dict=True))\n",
    "    # print(MCTS.a0eng2.a0_eng.evaluate(x_tr[idc],y_tr[idc],return_dict=True))\n",
    "    return x_tr,y_tr"
   ]
  },
  {
   "cell_type": "code",
   "execution_count": null,
   "metadata": {},
   "outputs": [],
   "source": [
    "x_tr,y_tr=loadgm(1)"
   ]
  },
  {
   "cell_type": "code",
   "execution_count": null,
   "metadata": {},
   "outputs": [],
   "source": [
    "for ss in range(1,33):\n",
    "    x_tr0,y_tr0=loadgm(ss)\n",
    "    x_tr=np.concatenate((x_tr,x_tr0))\n",
    "    y_tr=np.concatenate((y_tr,y_tr0))"
   ]
  },
  {
   "cell_type": "code",
   "execution_count": null,
   "metadata": {},
   "outputs": [],
   "source": [
    "# draw evaluation curve\n",
    "rs=y_tr[:,-1]\n",
    "ns=np.sum(x_tr,axis=(1,2,3)).astype(int)\n",
    "sd=ns%2\n",
    "ts=rs*(1-sd)+(1-rs)*sd\n",
    "blk=0\n",
    "nplt=0\n",
    "for i in range(1,len(ts)):\n",
    "    if(ns[i]<ns[i-1]):\n",
    "        plt.plot(ns[blk:i],ts[blk:i]*2-1)\n",
    "        blk=i\n",
    "        nplt+=1\n",
    "        # if(nplt>=10): break\n",
    "plt.grid()\n"
   ]
  },
  {
   "cell_type": "code",
   "execution_count": null,
   "metadata": {},
   "outputs": [],
   "source": [
    "# find blunders\n",
    "bldr=[]\n",
    "for i in range(len(ts)-1):\n",
    "    if(ns[i]>3 and ns[i]<ns[i+1] and np.abs(ts[i]-ts[i+1])>.25):\n",
    "        bldr+=[i]\n",
    "print(len(bldr),len(ts))"
   ]
  },
  {
   "cell_type": "code",
   "execution_count": null,
   "metadata": {},
   "outputs": [],
   "source": [
    "i=bldr[0]\n",
    "MCTS.showHeatMap(x_tr[i],y_tr[i],MCTS.a0eng.a0_eng(np.array([x_tr[i]]))[0].numpy())\n",
    "i+=1\n",
    "MCTS.showHeatMap(x_tr[i],y_tr[i],MCTS.a0eng.a0_eng(np.array([x_tr[i]]))[0].numpy())"
   ]
  },
  {
   "cell_type": "code",
   "execution_count": null,
   "metadata": {},
   "outputs": [],
   "source": [
    "def flip_x(ps):\n",
    "    return (14-ps//15)*15+ps%15\n",
    "def flip_y(ps):\n",
    "    return (ps//15)*15+(14-ps%15)\n",
    "def trs_xy(ps):\n",
    "    return (ps%15)*15+ps//15\n",
    "idxes=[# here it should be the inverse operation!!!\n",
    "    np.array([(ps if ps<225 else ps) for ps in range(226)]),\n",
    "    np.array([(flip_x(ps) if ps<225 else ps) for ps in range(226)]),\n",
    "    np.array([(flip_y(ps) if ps<225 else ps) for ps in range(226)]),\n",
    "    np.array([(flip_x(flip_y(ps)) if ps<225 else ps) for ps in range(226)]),\n",
    "    np.array([(trs_xy(ps) if ps<225 else ps) for ps in range(226)]),\n",
    "    np.array([(trs_xy(flip_y(ps)) if ps<225 else ps) for ps in range(226)]),\n",
    "    np.array([(trs_xy(flip_x(ps)) if ps<225 else ps) for ps in range(226)]),\n",
    "    np.array([(trs_xy(flip_x(flip_y(ps))) if ps<225 else ps) for ps in range(226)]),\n",
    "]\n",
    "mxfns=[\n",
    "    lambda x: x,\n",
    "    lambda x: np.flip(x,0),\n",
    "    lambda x: np.flip(x,1),\n",
    "    lambda x: np.flip(x,(0,1)),\n",
    "    lambda x: np.transpose(x,(1,0,2)),\n",
    "    lambda x: np.transpose(np.flip(x,0),(1,0,2)),\n",
    "    lambda x: np.transpose(np.flip(x,1),(1,0,2)),\n",
    "    lambda x: np.transpose(np.flip(x,(0,1)),(1,0,2)),\n",
    "]\n",
    "def data_augmentor(datx,daty,rnd):\n",
    "    if daty is None:\n",
    "        return mxfns[rnd](datx)\n",
    "    return mxfns[rnd](datx),daty[idxes[rnd]]"
   ]
  },
  {
   "cell_type": "code",
   "execution_count": null,
   "metadata": {},
   "outputs": [],
   "source": [
    "x_tra,y_tra=x_tr.copy(),y_tr.copy()\n",
    "for kk in range(len(x_tra)):\n",
    "    x_tra[kk],y_tra[kk]=data_augmentor(x_tra[kk],y_tra[kk],np.random.randint(8))"
   ]
  },
  {
   "cell_type": "code",
   "execution_count": null,
   "metadata": {},
   "outputs": [],
   "source": [
    "print(MCTS.a0eng.a0_eng.evaluate(x_tra,y_tra,return_dict=True,batch_size=512))\n",
    "print(MCTS.a0eng.a0_eng.evaluate(x_tr ,y_tr ,return_dict=True,batch_size=512))"
   ]
  },
  {
   "cell_type": "code",
   "execution_count": null,
   "metadata": {},
   "outputs": [],
   "source": [
    "npz_t=np.load(\"./games/dat_train0.npz\")\n",
    "x_tr=npz_t['arr_0']\n",
    "y_tr=npz_t['arr_1']\n",
    "print(len(y_tr))\n",
    "print(np.average(y_tr[:,-1]))\n",
    "idc=np.random.permutation(len(x_tr))\n",
    "print(MCTS.a0eng .a0_eng.evaluate(x_tr[idc],y_tr[idc],return_dict=True))\n",
    "print(MCTS.a0eng2.a0_eng.evaluate(x_tr[idc],y_tr[idc],return_dict=True))"
   ]
  },
  {
   "cell_type": "code",
   "execution_count": null,
   "metadata": {},
   "outputs": [],
   "source": [
    "i=0\n",
    "def maxprb(dat1,ivt):\n",
    "    yt=dat1**ivt\n",
    "    return np.sort(yt/np.sum(yt))[-2:]\n",
    "invT=np.linspace(.5,2.5,20)\n",
    "def drwPrb(dat1,dat2=None):\n",
    "    mxp=np.transpose(np.array([maxprb(dat1,it) for it in invT]))\n",
    "    plt.figure(figsize=(2.8,1.4))\n",
    "    for lns in mxp:\n",
    "        plt.plot(invT,lns,color=\"black\")\n",
    "    if dat2 is not None:\n",
    "        mxp=np.transpose(np.array([maxprb(dat2,it) for it in invT]))\n",
    "        for lns in mxp:\n",
    "            plt.plot(invT,lns,color=\"red\")\n",
    "    plt.grid()"
   ]
  },
  {
   "cell_type": "code",
   "execution_count": null,
   "metadata": {},
   "outputs": [],
   "source": [
    "nnrst=MCTS.a0eng.a0_eng(np.array([x_tr[i]]))[0].numpy()\n",
    "nnrsta=MCTS.a0eng.a0_eng(np.array([x_tra[i]]))[0].numpy()\n",
    "MCTS.showHeatMap(x_tr[i],y_tr[i],nnrst)\n",
    "MCTS.showHeatMap(x_tra[i],y_tra[i],nnrsta)\n",
    "# drwPrb(y_tr[i,:-1],nnrst[:-1])\n",
    "i+=1"
   ]
  },
  {
   "cell_type": "code",
   "execution_count": null,
   "metadata": {},
   "outputs": [],
   "source": [
    "i-=2"
   ]
  },
  {
   "cell_type": "code",
   "execution_count": null,
   "metadata": {},
   "outputs": [],
   "source": [
    "def setpos(mvs):\n",
    "    xt=np.zeros([15,15,2])\n",
    "    for kk in range(len(mvs)):\n",
    "        xt[mvs[kk,0],mvs[kk,1],kk%2]=1\n",
    "    if(len(mvs)%2): xt=np.flip(xt,-1)\n",
    "    return xt\n",
    "def search_pos(mvs,dat):\n",
    "    trm=np.transpose(mvs)\n",
    "    xmax,xmin=np.max(trm[0]),np.min(trm[0])\n",
    "    ymax,ymin=np.max(trm[1]),np.min(trm[1])\n",
    "    # print(xmax,xmin,ymax,ymin)\n",
    "    idxx=[]\n",
    "    ns,nt=8*(15-ymax+ymin)*(15-xmax+xmin),0\n",
    "    schrg=[]\n",
    "    lg0=len(mvs)\n",
    "    for idz in range(len(dat)):\n",
    "        if(np.sum(dat[idz])==lg0):\n",
    "            schrg+=[idz]\n",
    "    print(len(schrg),\"pos to search out of\",len(dat))\n",
    "    for x_sft in np.arange(-xmin,15-xmax):\n",
    "        for y_sft in np.arange(-ymin,15-ymax):\n",
    "            # print(np.array([x_sft,y_sft]),mvs-np.array([x_sft,y_sft]))\n",
    "            pgen=setpos(mvs+np.array([x_sft,y_sft]))\n",
    "            for opr in range(8):\n",
    "                xta=data_augmentor(pgen,None,opr)\n",
    "                nt+=1\n",
    "                print(\"\\r%d/%d\"%(nt,ns),end=\"\")\n",
    "                for idz in range(len(schrg)):\n",
    "                    if(np.array_equal(dat[schrg[idz]],xta)):\n",
    "                        idxx+=[schrg[idz]]\n",
    "    print(\"\")\n",
    "    return np.unique(idxx)"
   ]
  },
  {
   "cell_type": "code",
   "execution_count": null,
   "metadata": {},
   "outputs": [],
   "source": [
    "sch_rst=search_pos(mvs,x_tr)\n",
    "print(\"found\",len(sch_rst))"
   ]
  },
  {
   "cell_type": "code",
   "execution_count": null,
   "metadata": {},
   "outputs": [],
   "source": [
    "i=sch_rst[0]+2\n",
    "MCTS.showHeatMap(x_tr[i],y_tr[i],MCTS.a0eng.a0_eng(np.array([x_tr[i]]))[0].numpy())"
   ]
  },
  {
   "cell_type": "code",
   "execution_count": null,
   "metadata": {},
   "outputs": [],
   "source": [
    "mvs=np.array([[5,7],[6,8],[6,6],[4,8],[7,7],[5,8],[3,8],[4,7],[6,9],[4,9],[4,10],[4,5],[4,6],[6,7],[7,6],])"
   ]
  },
  {
   "cell_type": "code",
   "execution_count": null,
   "metadata": {},
   "outputs": [],
   "source": [
    "mvs=np.array([[7,7],[6,7],[9,5],[6,8],[6,6],[8,8],[9,8],[5,8],[7,5],[7,8],[4,8],[5,7],[9,7],[9,6],[6,5],])[:8]"
   ]
  },
  {
   "cell_type": "code",
   "execution_count": null,
   "metadata": {},
   "outputs": [],
   "source": [
    "xta=data_augmentor(setpos(mvs),None,0)\n",
    "MCTS.showHeatMap(xta,MCTS.a0eng.a0_eng(np.array([xta]))[0].numpy()**.5,MCTS.a0eng2.a0_eng(np.array([xta]))[0].numpy())"
   ]
  },
  {
   "cell_type": "code",
   "execution_count": null,
   "metadata": {},
   "outputs": [],
   "source": [
    "import numpy as np\n",
    "import matplotlib.pyplot as plt\n",
    "%config InlineBackend.figure_formats = ['svg']\n",
    "fp=open(\"trLog64.log\",\"r\")\n",
    "lsv=[]\n",
    "pv=[]\n",
    "vv=[]\n",
    "lst=[]\n",
    "pt=[]\n",
    "vt=[]\n",
    "rr=[]\n",
    "dbl=[]\n",
    "while(True):\n",
    "    ss=fp.readline()\n",
    "    if(ss==\"\"):\n",
    "        break\n",
    "    es=ss.split()\n",
    "    if(\"training\" in es):\n",
    "        vv+=[float(es[-1])]\n",
    "        pv+=[float(es[-3])]\n",
    "        lsv+=[float(es[-5])]\n",
    "        vt+=[float(es[-7])]\n",
    "        pt+=[float(es[-9])]\n",
    "        lst+=[float(es[-11])]\n",
    "    elif(\"dbls\" in es):\n",
    "        rr+=[float(es[4])]\n",
    "        dbl+=[int(es[7])]\n",
    "fp.close()\n",
    "\n",
    "elo=[]\n",
    "elot=[]\n",
    "elo_teacher=0.0\n",
    "def rrt2elo(rat,el_tr):\n",
    "    rrat=min(max(0.01,rat),0.99)\n",
    "    return el_tr-np.log10((1-rrat)/rrat)*400\n",
    "for i in range(len(dbl)):\n",
    "    elo+=[rrt2elo(rr[i]/64,elo_teacher)]\n",
    "    elot+=[elo_teacher]\n",
    "    if(rr[i]-dbl[i]/2>32):\n",
    "        elo_teacher=elo[-1]\n",
    "\n",
    "_, ((ax1,ax2),(ax3,ax4)) = plt.subplots(2,2,figsize=(7/.618,7))\n",
    "ax1.plot(lst)\n",
    "ax1.plot(lsv)\n",
    "ax1.grid(which='both')\n",
    "ax1.set_title(\"loss\")\n",
    "ax1.set_ylim([0,np.min(lsv)*2])\n",
    "ax2.plot(pt)\n",
    "ax2.plot(pv)\n",
    "ax2.grid(which='both')\n",
    "ax2.set_title(\"p accuracy\")\n",
    "ax2.set_ylim([.0,(1+max(np.max(pv),np.max(pt)))/2])\n",
    "ax3.plot(vt)\n",
    "ax3.plot(vv)\n",
    "ax3.grid(which='both')\n",
    "ax3.set_title(\"v accuracy\")\n",
    "ax3.set_ylim([.45,(1+max(np.max(vv),np.max(vt)))/2])\n",
    "ax4.plot(elot)\n",
    "ax4.plot(elo)\n",
    "ax4.grid(which='both')\n",
    "ax4.set_title(\"elo rating\")\n",
    "ax4.set_ylim([max(elo[-1],elot[-1])*.5,max(elo[-1],elot[-1])*1.05])\n",
    "plt.savefig(\"training.pdf\")"
   ]
  },
  {
   "cell_type": "code",
   "execution_count": null,
   "metadata": {},
   "outputs": [],
   "source": [
    "import time\n",
    "import datetime\n",
    "fp=open(\"trLog64.log\",\"r\")\n",
    "fp1=open(\"trLog128.log\",\"r\")\n",
    "fp2=open(\"trLog20.log\",\"r\") \n",
    "lsv,pv,vv,lst,pt,vt=[],[],[],[],[],[]\n",
    "lsv1,pv1,vv1,lst1,pt1,vt1=[],[],[],[],[],[]\n",
    "lsv2,pv2,vv2,lst2,pt2,vt2=[],[],[],[],[],[]\n",
    "while(True):\n",
    "    ss1=fp1.readline()\n",
    "    ss2=fp2.readline()\n",
    "    if(ss1==\"\"):\n",
    "        break\n",
    "    es1=ss1.split()\n",
    "    es2=ss2.split()\n",
    "    if(\"training\" in es1):\n",
    "        t1=time.mktime(datetime.datetime.strptime(es1[0]+\" \"+es1[1], \"%m/%d/%Y %H:%M:%S\").timetuple())\n",
    "        vv1+=[float(es1[-1])]\n",
    "        pv1+=[float(es1[-3])]\n",
    "        lsv1+=[float(es1[-5])]\n",
    "        vt1+=[float(es1[-7])]\n",
    "        pt1+=[float(es1[-9])]\n",
    "        lst1+=[float(es1[-11])]\n",
    "        vv2+=[float(es2[-1])]\n",
    "        pv2+=[float(es2[-3])]\n",
    "        lsv2+=[float(es2[-5])]\n",
    "        vt2+=[float(es2[-7])]\n",
    "        pt2+=[float(es2[-9])]\n",
    "        lst2+=[float(es2[-11])]\n",
    "        while(True):\n",
    "            es=fp.readline().split()\n",
    "            if(\"training\" in es):\n",
    "                ess=es\n",
    "            try:\n",
    "                t2=time.mktime(datetime.datetime.strptime(es[0]+\" \"+es[1], \"%m/%d/%Y %H:%M:%S\").timetuple())\n",
    "            except:\n",
    "                t2=0\n",
    "            if(len(es)==0): t2=t1+1\n",
    "            if(t1<t2):\n",
    "                vv+=[float(ess[-1])]\n",
    "                pv+=[float(ess[-3])]\n",
    "                lsv+=[float(ess[-5])]\n",
    "                vt+=[float(ess[-7])]\n",
    "                pt+=[float(ess[-9])]\n",
    "                lst+=[float(ess[-11])]\n",
    "                break\n",
    "\n",
    "fp.close()\n",
    "fp1.close()\n",
    "fp2.close()\n",
    "\n",
    "_, ((ax1,ax2,ax3)) = plt.subplots(1,3,figsize=(12,4))\n",
    "lb=1\n",
    "for ln in [lst,lsv,lst1,lsv1,lst2,lsv2]:\n",
    "    ax1.plot(ln,label=str(lb))\n",
    "    lb+=1\n",
    "ax1.grid(which='both')\n",
    "ax1.set_title(\"loss\")\n",
    "ax1.legend()\n",
    "for ln in [pt,pv,pt1,pv1,pt2,pv2]:\n",
    "    ax2.plot(ln)\n",
    "ax2.grid(which='both')\n",
    "ax2.set_title(\"p accuracy\")\n",
    "for ln in [vt,vv,vt1,vv1,vt2,vv2]:\n",
    "    ax3.plot(ln)\n",
    "ax3.grid(which='both')\n",
    "ax3.set_title(\"v accuracy\")"
   ]
  },
  {
   "cell_type": "code",
   "execution_count": null,
   "metadata": {},
   "outputs": [],
   "source": [
    "if(os.path.isfile(\"./games/dat_trprev.npz\")):\n",
    "    npz_t=np.load(\"./games/dat_trprev.npz\")\n",
    "    x_tr=npz_t['arr_0']\n",
    "    y_tr=npz_t['arr_1']\n",
    "    print(\"load cached data: %d\"%(len(y_tr)))\n",
    "    npz_t=np.load(\"./games/dat_train1.npz\")\n",
    "    x_tr=np.concatenate((x_tr,npz_t['arr_0']))\n",
    "    y_tr=np.concatenate((y_tr,npz_t['arr_1']))\n",
    "else:\n",
    "    npz_t=np.load(\"./games/dat_train1.npz\")\n",
    "    x_tr=npz_t['arr_0']\n",
    "    y_tr=npz_t['arr_1']\n",
    "\n",
    "npz_v=np.load(\"./games/dat_vlidn1.npz\")\n",
    "x_vl=npz_v['arr_0']\n",
    "y_vl=npz_v['arr_1']\n",
    "\n",
    "for ii in range(2,33):\n",
    "    nf=\"./games/dat_train\"+str(ii)+\".npz\"\n",
    "    if(os.path.exists(nf)):\n",
    "        npz_t=np.load(nf)\n",
    "        x_tr=np.concatenate((x_tr,npz_t['arr_0']))\n",
    "        y_tr=np.concatenate((y_tr,npz_t['arr_1']))\n",
    "    nf=\"./games/dat_vlidn\"+str(ii)+\".npz\"\n",
    "    if(os.path.exists(nf)):\n",
    "        npz_v=np.load(nf)\n",
    "        x_vl=np.concatenate((x_vl,npz_v['arr_0']))\n",
    "        y_vl=np.concatenate((y_vl,npz_v['arr_1']))"
   ]
  },
  {
   "cell_type": "code",
   "execution_count": null,
   "metadata": {},
   "outputs": [],
   "source": [
    "bz=256\n",
    "sg=np.std(x_tr,axis=(0,1,2))\n",
    "mu=np.mean(x_tr,axis=(0,1,2))\n",
    "for i in range(25):\n",
    "    bsg=np.std(x_tr[bz*i:bz*(i+1)],axis=(0,1,2))\n",
    "    bmu=np.mean(x_tr[bz*i:bz*(i+1)],axis=(0,1,2))\n",
    "    print(bsg/sg,(bmu-mu)/sg)\n",
    "    if(bz*(i+1)>len(y_tr)):\n",
    "        break"
   ]
  },
  {
   "cell_type": "code",
   "execution_count": null,
   "metadata": {
    "tags": []
   },
   "outputs": [],
   "source": [
    "%%capture\n",
    "tf.keras.backend.clear_session()\n",
    "nw=0\n",
    "wts=[]\n",
    "while(os.path.isfile(\"./weights/RNG64_%d.tf.index\"%(nw+1))):\n",
    "    wts.append(RNG.A0_ENG(64,\"./weights/RNG64_%d.tf\"%(nw+1)).a0_eng.get_weights())\n",
    "    nw+=1\n",
    "nw+=1\n",
    "wts.append(RNG.A0_ENG(64,\"./RNG64.tf\").a0_eng.get_weights())"
   ]
  },
  {
   "cell_type": "code",
   "execution_count": null,
   "metadata": {},
   "outputs": [],
   "source": [
    "for ele in range(50):\n",
    "    idx=tuple(np.random.randint(dd) for dd in wts[0][ele].shape)\n",
    "    plt.plot([wts[i][ele][idx] for i in range(nw)])"
   ]
  },
  {
   "cell_type": "code",
   "execution_count": null,
   "metadata": {},
   "outputs": [],
   "source": [
    "for ele in range(50):\n",
    "    plt.plot([np.sqrt(np.mean(wts[i][ele]**2)) for i in range(nw)])"
   ]
  },
  {
   "cell_type": "code",
   "execution_count": null,
   "metadata": {},
   "outputs": [],
   "source": [
    "%%capture\n",
    "tf.keras.backend.clear_session()\n",
    "nw=0\n",
    "egs=[]\n",
    "while(os.path.isfile(\"./weights/RNG64_%d.tf.index\"%(nw+1))):\n",
    "    egs.append(RNG.A0_ENG(64,\"./weights/RNG64_%d.tf\"%(nw+1)))\n",
    "    nw+=1"
   ]
  },
  {
   "cell_type": "code",
   "execution_count": null,
   "metadata": {},
   "outputs": [],
   "source": [
    "et=RNG.A0_ENG(64,\"./weights/RNG64.tf\")\n",
    "sp=x_tra[np.random.choice(len(x_tra),4000,replace=False)]"
   ]
  },
  {
   "cell_type": "code",
   "execution_count": null,
   "metadata": {},
   "outputs": [],
   "source": [
    "tg=et.a0_eng(sp)\n",
    "ev=[]\n",
    "for i in range(len(egs)):\n",
    "    ev.append(egs[i].a0_eng(sp))\n",
    "    print(\"#\",end=\"\")\n",
    "ev.append(tg)"
   ]
  },
  {
   "cell_type": "code",
   "execution_count": null,
   "metadata": {},
   "outputs": [],
   "source": [
    "kld=tf.keras.losses.KLDivergence()\n",
    "mse=tf.keras.losses.MeanSquaredError()\n",
    "pl=[kld(tg[:,:-1],es[:,:-1]) for es in ev]\n",
    "vl=[4*mse(tg[:,-1],es[:,-1]) for es in ev]\n",
    "_, ((ax1,ax2)) = plt.subplots(1,2,figsize=(12,4))\n",
    "ax1.plot(pl)\n",
    "ax2.plot(vl)"
   ]
  },
  {
   "cell_type": "code",
   "execution_count": null,
   "metadata": {},
   "outputs": [],
   "source": [
    "def drawEval(no,ax):\n",
    "    fp=open(\"./eval/gm%d.txt\"%(no),\"r\")\n",
    "    # fp.readline()\n",
    "    mv=[]\n",
    "    op=[]\n",
    "    while(True):\n",
    "        tx=fp.readline()\n",
    "        if(tx==\"\"):\n",
    "            break\n",
    "        ss=tx.split()\n",
    "        if(len(ss)==7):\n",
    "            mv.append([int(ss[0]),int(ss[1]),float(ss[4])])\n",
    "        if(\"b\" in ss):\n",
    "            op.append([int(ss[2]),int(ss[3])])\n",
    "    fp.close()\n",
    "    spl=1\n",
    "    while(mv[spl][0]>mv[spl-1][0]):\n",
    "        spl+=1\n",
    "    for i in range(len(mv)):\n",
    "        mv[i][2]=mv[i][2] if mv[i][1] else 1.0-mv[i][2]\n",
    "    eng1=np.transpose([[mv[i][0],mv[i][2]] for i in range(len(mv)) if mv[i][1]==1])\n",
    "    eng2=np.transpose([[mv[i][0],mv[i][2]] for i in range(len(mv)) if mv[i][1]==0])\n",
    "    gm1=np.transpose(mv[:spl])\n",
    "    gm2=np.transpose(mv[spl:])\n",
    "    ax.plot(gm1[0],gm1[2]*2-1,\"cyan\")\n",
    "    ax.plot(gm2[0],gm2[2]*2-1,\"magenta\")\n",
    "    ax.plot(eng1[0],eng1[1]*2-1,\"ro\",label=\"New\",markersize=4)\n",
    "    ax.plot(eng2[0],eng2[1]*2-1,\"bv\",label=\"Old\",markersize=4)\n",
    "    ax.grid()\n",
    "    ax.set_ylim(-1.1,1.1)\n",
    "    ax.set_title(str(op[:len(op)//2]))\n",
    "    # ax.legend()"
   ]
  },
  {
   "cell_type": "code",
   "execution_count": null,
   "metadata": {},
   "outputs": [],
   "source": [
    "_,axs=plt.subplots(8,4,figsize=(14,28))\n",
    "for k in range(8):\n",
    "    for l in range(4):\n",
    "        drawEval(k*4+l+1,axs[k][l])\n",
    "plt.savefig(\"evals.pdf\")"
   ]
  },
  {
   "cell_type": "code",
   "execution_count": null,
   "metadata": {},
   "outputs": [],
   "source": []
  }
 ]
}